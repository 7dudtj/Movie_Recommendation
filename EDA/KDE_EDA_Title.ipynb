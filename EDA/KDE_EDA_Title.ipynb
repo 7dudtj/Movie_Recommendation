{
 "cells": [
  {
   "cell_type": "code",
   "execution_count": 3,
   "metadata": {},
   "outputs": [],
   "source": [
    "import pandas as pd"
   ]
  },
  {
   "cell_type": "code",
   "execution_count": 4,
   "metadata": {},
   "outputs": [],
   "source": [
    "train_data = pd.read_csv(\"/opt/ml/input/data/train/train_ratings.csv\")\n",
    "titles = pd.read_csv(\"/opt/ml/input/data/train/titles.tsv\", sep=\"\\t\")"
   ]
  },
  {
   "cell_type": "code",
   "execution_count": 5,
   "metadata": {},
   "outputs": [
    {
     "data": {
      "text/html": [
       "<div>\n",
       "<style scoped>\n",
       "    .dataframe tbody tr th:only-of-type {\n",
       "        vertical-align: middle;\n",
       "    }\n",
       "\n",
       "    .dataframe tbody tr th {\n",
       "        vertical-align: top;\n",
       "    }\n",
       "\n",
       "    .dataframe thead th {\n",
       "        text-align: right;\n",
       "    }\n",
       "</style>\n",
       "<table border=\"1\" class=\"dataframe\">\n",
       "  <thead>\n",
       "    <tr style=\"text-align: right;\">\n",
       "      <th></th>\n",
       "      <th>item</th>\n",
       "      <th>title</th>\n",
       "    </tr>\n",
       "  </thead>\n",
       "  <tbody>\n",
       "    <tr>\n",
       "      <th>0</th>\n",
       "      <td>318</td>\n",
       "      <td>Shawshank Redemption, The (1994)</td>\n",
       "    </tr>\n",
       "    <tr>\n",
       "      <th>1</th>\n",
       "      <td>2571</td>\n",
       "      <td>Matrix, The (1999)</td>\n",
       "    </tr>\n",
       "    <tr>\n",
       "      <th>2</th>\n",
       "      <td>2959</td>\n",
       "      <td>Fight Club (1999)</td>\n",
       "    </tr>\n",
       "    <tr>\n",
       "      <th>3</th>\n",
       "      <td>296</td>\n",
       "      <td>Pulp Fiction (1994)</td>\n",
       "    </tr>\n",
       "    <tr>\n",
       "      <th>4</th>\n",
       "      <td>356</td>\n",
       "      <td>Forrest Gump (1994)</td>\n",
       "    </tr>\n",
       "    <tr>\n",
       "      <th>...</th>\n",
       "      <td>...</td>\n",
       "      <td>...</td>\n",
       "    </tr>\n",
       "    <tr>\n",
       "      <th>6802</th>\n",
       "      <td>73106</td>\n",
       "      <td>American Pie Presents: The Book of Love (Ameri...</td>\n",
       "    </tr>\n",
       "    <tr>\n",
       "      <th>6803</th>\n",
       "      <td>109850</td>\n",
       "      <td>Need for Speed (2014)</td>\n",
       "    </tr>\n",
       "    <tr>\n",
       "      <th>6804</th>\n",
       "      <td>8605</td>\n",
       "      <td>Taxi 3 (2003)</td>\n",
       "    </tr>\n",
       "    <tr>\n",
       "      <th>6805</th>\n",
       "      <td>3689</td>\n",
       "      <td>Porky's II: The Next Day (1983)</td>\n",
       "    </tr>\n",
       "    <tr>\n",
       "      <th>6806</th>\n",
       "      <td>8130</td>\n",
       "      <td>Girl Next Door, The (1999)</td>\n",
       "    </tr>\n",
       "  </tbody>\n",
       "</table>\n",
       "<p>6807 rows × 2 columns</p>\n",
       "</div>"
      ],
      "text/plain": [
       "        item                                              title\n",
       "0        318                   Shawshank Redemption, The (1994)\n",
       "1       2571                                 Matrix, The (1999)\n",
       "2       2959                                  Fight Club (1999)\n",
       "3        296                                Pulp Fiction (1994)\n",
       "4        356                                Forrest Gump (1994)\n",
       "...      ...                                                ...\n",
       "6802   73106  American Pie Presents: The Book of Love (Ameri...\n",
       "6803  109850                              Need for Speed (2014)\n",
       "6804    8605                                      Taxi 3 (2003)\n",
       "6805    3689                    Porky's II: The Next Day (1983)\n",
       "6806    8130                         Girl Next Door, The (1999)\n",
       "\n",
       "[6807 rows x 2 columns]"
      ]
     },
     "execution_count": 5,
     "metadata": {},
     "output_type": "execute_result"
    }
   ],
   "source": [
    "titles"
   ]
  },
  {
   "attachments": {},
   "cell_type": "markdown",
   "metadata": {},
   "source": [
    "# 가설 : 모든 title은 고유하다"
   ]
  },
  {
   "cell_type": "code",
   "execution_count": 6,
   "metadata": {},
   "outputs": [],
   "source": [
    "titles.title = titles.title.str.lower()"
   ]
  },
  {
   "cell_type": "code",
   "execution_count": 7,
   "metadata": {},
   "outputs": [
    {
     "data": {
      "text/plain": [
       "6806"
      ]
     },
     "execution_count": 7,
     "metadata": {},
     "output_type": "execute_result"
    }
   ],
   "source": [
    "titles.title.nunique()"
   ]
  },
  {
   "cell_type": "code",
   "execution_count": 8,
   "metadata": {},
   "outputs": [
    {
     "data": {
      "text/plain": [
       "title\n",
       "\"great performances\" cats (1998)             1\n",
       "overboard (1987)                             1\n",
       "over the hedge (2006)                        1\n",
       "outsourced (2006)                            1\n",
       "outsiders, the (1983)                        1\n",
       "                                            ..\n",
       "freaky friday (1977)                         1\n",
       "freaks (1932)                                1\n",
       "freeway (1996)                               1\n",
       "à nous la liberté (freedom for us) (1931)    1\n",
       "war of the worlds (2005)                     2\n",
       "Length: 6806, dtype: int64"
      ]
     },
     "execution_count": 8,
     "metadata": {},
     "output_type": "execute_result"
    }
   ],
   "source": [
    "tmp = titles.groupby(\"title\").size()\n",
    "tmp.sort_values()   # 하나의 중복된 title이 있다. - War of the Worlds (2005)"
   ]
  },
  {
   "cell_type": "code",
   "execution_count": 9,
   "metadata": {},
   "outputs": [
    {
     "data": {
      "text/html": [
       "<div>\n",
       "<style scoped>\n",
       "    .dataframe tbody tr th:only-of-type {\n",
       "        vertical-align: middle;\n",
       "    }\n",
       "\n",
       "    .dataframe tbody tr th {\n",
       "        vertical-align: top;\n",
       "    }\n",
       "\n",
       "    .dataframe thead th {\n",
       "        text-align: right;\n",
       "    }\n",
       "</style>\n",
       "<table border=\"1\" class=\"dataframe\">\n",
       "  <thead>\n",
       "    <tr style=\"text-align: right;\">\n",
       "      <th></th>\n",
       "      <th>item</th>\n",
       "      <th>title</th>\n",
       "    </tr>\n",
       "  </thead>\n",
       "  <tbody>\n",
       "    <tr>\n",
       "      <th>349</th>\n",
       "      <td>34048</td>\n",
       "      <td>war of the worlds (2005)</td>\n",
       "    </tr>\n",
       "    <tr>\n",
       "      <th>1926</th>\n",
       "      <td>64997</td>\n",
       "      <td>war of the worlds (2005)</td>\n",
       "    </tr>\n",
       "  </tbody>\n",
       "</table>\n",
       "</div>"
      ],
      "text/plain": [
       "       item                     title\n",
       "349   34048  war of the worlds (2005)\n",
       "1926  64997  war of the worlds (2005)"
      ]
     },
     "execution_count": 9,
     "metadata": {},
     "output_type": "execute_result"
    }
   ],
   "source": [
    "titles[titles.title == \"war of the worlds (2005)\"]  # 같은 title, 다른 item 번호"
   ]
  },
  {
   "cell_type": "code",
   "execution_count": 10,
   "metadata": {},
   "outputs": [],
   "source": [
    "directors = pd.read_csv(\"/opt/ml/input/data/train/directors.tsv\", sep=\"\\t\")\n",
    "genres = pd.read_csv(\"/opt/ml/input/data/train/genres.tsv\", sep=\"\\t\")\n",
    "writers = pd.read_csv(\"/opt/ml/input/data/train/writers.tsv\", sep=\"\\t\")\n",
    "years = pd.read_csv(\"/opt/ml/input/data/train/years.tsv\", sep=\"\\t\")"
   ]
  },
  {
   "cell_type": "code",
   "execution_count": 11,
   "metadata": {},
   "outputs": [
    {
     "name": "stdout",
     "output_type": "stream",
     "text": [
      "Empty DataFrame\n",
      "Columns: [item, director]\n",
      "Index: []\n",
      "      item   director\n",
      "384  34048  nm0000229\n",
      "\n",
      "       item   genre\n",
      "4735  64997  Action\n",
      "4736  64997  Sci-Fi\n",
      "       item      genre\n",
      "1001  34048     Action\n",
      "1002  34048  Adventure\n",
      "1003  34048     Sci-Fi\n",
      "1004  34048   Thriller\n",
      "\n",
      "        item     writer\n",
      "10158  64997  nm0920229\n",
      "        item     writer\n",
      "4527   34048  nm0295264\n",
      "6221   34048  nm0462895\n",
      "10154  34048  nm0920229\n",
      "\n",
      "       item  year\n",
      "4806  64997  2005\n",
      "       item  year\n",
      "4751  34048  2005\n"
     ]
    }
   ],
   "source": [
    "print(directors[directors.item == 64997])\n",
    "print(directors[directors.item == 34048])\n",
    "print()\n",
    "print(genres[genres.item == 64997])\n",
    "print(genres[genres.item == 34048])\n",
    "print()\n",
    "print(writers[writers.item == 64997])\n",
    "print(writers[writers.item == 34048])\n",
    "print()\n",
    "print(years[years.item == 64997])\n",
    "print(years[years.item == 34048])\n",
    "# item 번호 34048이 64997을 포함하는 모습을 보인다."
   ]
  },
  {
   "cell_type": "code",
   "execution_count": 12,
   "metadata": {},
   "outputs": [
    {
     "data": {
      "text/html": [
       "<div>\n",
       "<style scoped>\n",
       "    .dataframe tbody tr th:only-of-type {\n",
       "        vertical-align: middle;\n",
       "    }\n",
       "\n",
       "    .dataframe tbody tr th {\n",
       "        vertical-align: top;\n",
       "    }\n",
       "\n",
       "    .dataframe thead th {\n",
       "        text-align: right;\n",
       "    }\n",
       "</style>\n",
       "<table border=\"1\" class=\"dataframe\">\n",
       "  <thead>\n",
       "    <tr style=\"text-align: right;\">\n",
       "      <th></th>\n",
       "      <th>item</th>\n",
       "      <th>title</th>\n",
       "    </tr>\n",
       "  </thead>\n",
       "  <tbody>\n",
       "    <tr>\n",
       "      <th>349</th>\n",
       "      <td>34048</td>\n",
       "      <td>war of the worlds (2005)</td>\n",
       "    </tr>\n",
       "    <tr>\n",
       "      <th>1926</th>\n",
       "      <td>64997</td>\n",
       "      <td>war of the worlds (2005)</td>\n",
       "    </tr>\n",
       "  </tbody>\n",
       "</table>\n",
       "</div>"
      ],
      "text/plain": [
       "       item                     title\n",
       "349   34048  war of the worlds (2005)\n",
       "1926  64997  war of the worlds (2005)"
      ]
     },
     "execution_count": 12,
     "metadata": {},
     "output_type": "execute_result"
    }
   ],
   "source": [
    "titles[titles.title == \"war of the worlds (2005)\"]"
   ]
  },
  {
   "cell_type": "code",
   "execution_count": 13,
   "metadata": {},
   "outputs": [],
   "source": [
    "train_title = train_data.merge(titles, on=\"item\", how=\"left\")"
   ]
  },
  {
   "cell_type": "code",
   "execution_count": 14,
   "metadata": {},
   "outputs": [
    {
     "data": {
      "text/html": [
       "<div>\n",
       "<style scoped>\n",
       "    .dataframe tbody tr th:only-of-type {\n",
       "        vertical-align: middle;\n",
       "    }\n",
       "\n",
       "    .dataframe tbody tr th {\n",
       "        vertical-align: top;\n",
       "    }\n",
       "\n",
       "    .dataframe thead th {\n",
       "        text-align: right;\n",
       "    }\n",
       "</style>\n",
       "<table border=\"1\" class=\"dataframe\">\n",
       "  <thead>\n",
       "    <tr style=\"text-align: right;\">\n",
       "      <th></th>\n",
       "      <th>user</th>\n",
       "      <th>item</th>\n",
       "      <th>time</th>\n",
       "      <th>title</th>\n",
       "    </tr>\n",
       "  </thead>\n",
       "  <tbody>\n",
       "    <tr>\n",
       "      <th>0</th>\n",
       "      <td>11</td>\n",
       "      <td>4643</td>\n",
       "      <td>1230782529</td>\n",
       "      <td>planet of the apes (2001)</td>\n",
       "    </tr>\n",
       "    <tr>\n",
       "      <th>1</th>\n",
       "      <td>11</td>\n",
       "      <td>170</td>\n",
       "      <td>1230782534</td>\n",
       "      <td>hackers (1995)</td>\n",
       "    </tr>\n",
       "    <tr>\n",
       "      <th>2</th>\n",
       "      <td>11</td>\n",
       "      <td>531</td>\n",
       "      <td>1230782539</td>\n",
       "      <td>secret garden, the (1993)</td>\n",
       "    </tr>\n",
       "    <tr>\n",
       "      <th>3</th>\n",
       "      <td>11</td>\n",
       "      <td>616</td>\n",
       "      <td>1230782542</td>\n",
       "      <td>aristocats, the (1970)</td>\n",
       "    </tr>\n",
       "    <tr>\n",
       "      <th>4</th>\n",
       "      <td>11</td>\n",
       "      <td>2140</td>\n",
       "      <td>1230782563</td>\n",
       "      <td>dark crystal, the (1982)</td>\n",
       "    </tr>\n",
       "    <tr>\n",
       "      <th>...</th>\n",
       "      <td>...</td>\n",
       "      <td>...</td>\n",
       "      <td>...</td>\n",
       "      <td>...</td>\n",
       "    </tr>\n",
       "    <tr>\n",
       "      <th>5154466</th>\n",
       "      <td>138493</td>\n",
       "      <td>44022</td>\n",
       "      <td>1260209449</td>\n",
       "      <td>ice age 2: the meltdown (2006)</td>\n",
       "    </tr>\n",
       "    <tr>\n",
       "      <th>5154467</th>\n",
       "      <td>138493</td>\n",
       "      <td>4958</td>\n",
       "      <td>1260209482</td>\n",
       "      <td>behind enemy lines (2001)</td>\n",
       "    </tr>\n",
       "    <tr>\n",
       "      <th>5154468</th>\n",
       "      <td>138493</td>\n",
       "      <td>68319</td>\n",
       "      <td>1260209720</td>\n",
       "      <td>x-men origins: wolverine (2009)</td>\n",
       "    </tr>\n",
       "    <tr>\n",
       "      <th>5154469</th>\n",
       "      <td>138493</td>\n",
       "      <td>40819</td>\n",
       "      <td>1260209726</td>\n",
       "      <td>walk the line (2005)</td>\n",
       "    </tr>\n",
       "    <tr>\n",
       "      <th>5154470</th>\n",
       "      <td>138493</td>\n",
       "      <td>27311</td>\n",
       "      <td>1260209807</td>\n",
       "      <td>batman beyond: return of the joker (2000)</td>\n",
       "    </tr>\n",
       "  </tbody>\n",
       "</table>\n",
       "<p>5154471 rows × 4 columns</p>\n",
       "</div>"
      ],
      "text/plain": [
       "           user   item        time                                      title\n",
       "0            11   4643  1230782529                  planet of the apes (2001)\n",
       "1            11    170  1230782534                             hackers (1995)\n",
       "2            11    531  1230782539                  secret garden, the (1993)\n",
       "3            11    616  1230782542                     aristocats, the (1970)\n",
       "4            11   2140  1230782563                   dark crystal, the (1982)\n",
       "...         ...    ...         ...                                        ...\n",
       "5154466  138493  44022  1260209449             ice age 2: the meltdown (2006)\n",
       "5154467  138493   4958  1260209482                  behind enemy lines (2001)\n",
       "5154468  138493  68319  1260209720            x-men origins: wolverine (2009)\n",
       "5154469  138493  40819  1260209726                       walk the line (2005)\n",
       "5154470  138493  27311  1260209807  batman beyond: return of the joker (2000)\n",
       "\n",
       "[5154471 rows x 4 columns]"
      ]
     },
     "execution_count": 14,
     "metadata": {},
     "output_type": "execute_result"
    }
   ],
   "source": [
    "train_title"
   ]
  },
  {
   "cell_type": "code",
   "execution_count": 15,
   "metadata": {},
   "outputs": [
    {
     "data": {
      "text/plain": [
       "item\n",
       "34048    3022\n",
       "64997     178\n",
       "dtype: int64"
      ]
     },
     "execution_count": 15,
     "metadata": {},
     "output_type": "execute_result"
    }
   ],
   "source": [
    "train_title[train_title.title == \"war of the worlds (2005)\"].groupby(\"item\").size()"
   ]
  },
  {
   "attachments": {},
   "cell_type": "markdown",
   "metadata": {},
   "source": [
    "# 가설 : 모든 영화 제목에는 올바른 year 정보가 포함되어있다."
   ]
  },
  {
   "cell_type": "code",
   "execution_count": 16,
   "metadata": {},
   "outputs": [],
   "source": [
    "new_titles = titles.copy()"
   ]
  },
  {
   "cell_type": "code",
   "execution_count": 17,
   "metadata": {},
   "outputs": [],
   "source": [
    "# 제목에서 가장 마지막에 있는 year 추출하여 \"_year\" column에 추가\n",
    "new_titles[\"_year\"] = new_titles.title.apply(lambda x: x.split()[-1])\n",
    "new_titles[\"_year\"] = new_titles._year.apply(lambda x: x[1:5])"
   ]
  },
  {
   "cell_type": "code",
   "execution_count": 18,
   "metadata": {},
   "outputs": [
    {
     "data": {
      "text/html": [
       "<div>\n",
       "<style scoped>\n",
       "    .dataframe tbody tr th:only-of-type {\n",
       "        vertical-align: middle;\n",
       "    }\n",
       "\n",
       "    .dataframe tbody tr th {\n",
       "        vertical-align: top;\n",
       "    }\n",
       "\n",
       "    .dataframe thead th {\n",
       "        text-align: right;\n",
       "    }\n",
       "</style>\n",
       "<table border=\"1\" class=\"dataframe\">\n",
       "  <thead>\n",
       "    <tr style=\"text-align: right;\">\n",
       "      <th></th>\n",
       "      <th>item</th>\n",
       "      <th>title</th>\n",
       "      <th>_year</th>\n",
       "    </tr>\n",
       "  </thead>\n",
       "  <tbody>\n",
       "    <tr>\n",
       "      <th>0</th>\n",
       "      <td>318</td>\n",
       "      <td>shawshank redemption, the (1994)</td>\n",
       "      <td>1994</td>\n",
       "    </tr>\n",
       "    <tr>\n",
       "      <th>1</th>\n",
       "      <td>2571</td>\n",
       "      <td>matrix, the (1999)</td>\n",
       "      <td>1999</td>\n",
       "    </tr>\n",
       "    <tr>\n",
       "      <th>2</th>\n",
       "      <td>2959</td>\n",
       "      <td>fight club (1999)</td>\n",
       "      <td>1999</td>\n",
       "    </tr>\n",
       "    <tr>\n",
       "      <th>3</th>\n",
       "      <td>296</td>\n",
       "      <td>pulp fiction (1994)</td>\n",
       "      <td>1994</td>\n",
       "    </tr>\n",
       "    <tr>\n",
       "      <th>4</th>\n",
       "      <td>356</td>\n",
       "      <td>forrest gump (1994)</td>\n",
       "      <td>1994</td>\n",
       "    </tr>\n",
       "    <tr>\n",
       "      <th>...</th>\n",
       "      <td>...</td>\n",
       "      <td>...</td>\n",
       "      <td>...</td>\n",
       "    </tr>\n",
       "    <tr>\n",
       "      <th>6802</th>\n",
       "      <td>73106</td>\n",
       "      <td>american pie presents: the book of love (ameri...</td>\n",
       "      <td>2009</td>\n",
       "    </tr>\n",
       "    <tr>\n",
       "      <th>6803</th>\n",
       "      <td>109850</td>\n",
       "      <td>need for speed (2014)</td>\n",
       "      <td>2014</td>\n",
       "    </tr>\n",
       "    <tr>\n",
       "      <th>6804</th>\n",
       "      <td>8605</td>\n",
       "      <td>taxi 3 (2003)</td>\n",
       "      <td>2003</td>\n",
       "    </tr>\n",
       "    <tr>\n",
       "      <th>6805</th>\n",
       "      <td>3689</td>\n",
       "      <td>porky's ii: the next day (1983)</td>\n",
       "      <td>1983</td>\n",
       "    </tr>\n",
       "    <tr>\n",
       "      <th>6806</th>\n",
       "      <td>8130</td>\n",
       "      <td>girl next door, the (1999)</td>\n",
       "      <td>1999</td>\n",
       "    </tr>\n",
       "  </tbody>\n",
       "</table>\n",
       "<p>6807 rows × 3 columns</p>\n",
       "</div>"
      ],
      "text/plain": [
       "        item                                              title _year\n",
       "0        318                   shawshank redemption, the (1994)  1994\n",
       "1       2571                                 matrix, the (1999)  1999\n",
       "2       2959                                  fight club (1999)  1999\n",
       "3        296                                pulp fiction (1994)  1994\n",
       "4        356                                forrest gump (1994)  1994\n",
       "...      ...                                                ...   ...\n",
       "6802   73106  american pie presents: the book of love (ameri...  2009\n",
       "6803  109850                              need for speed (2014)  2014\n",
       "6804    8605                                      taxi 3 (2003)  2003\n",
       "6805    3689                    porky's ii: the next day (1983)  1983\n",
       "6806    8130                         girl next door, the (1999)  1999\n",
       "\n",
       "[6807 rows x 3 columns]"
      ]
     },
     "execution_count": 18,
     "metadata": {},
     "output_type": "execute_result"
    }
   ],
   "source": [
    "new_titles"
   ]
  },
  {
   "cell_type": "code",
   "execution_count": 19,
   "metadata": {},
   "outputs": [],
   "source": [
    "years = pd.read_csv(\"/opt/ml/input/data/train/years.tsv\", sep=\"\\t\")"
   ]
  },
  {
   "cell_type": "code",
   "execution_count": 20,
   "metadata": {},
   "outputs": [],
   "source": [
    "new_titles = new_titles.merge(years, on=\"item\", how=\"left\")"
   ]
  },
  {
   "cell_type": "code",
   "execution_count": 21,
   "metadata": {},
   "outputs": [],
   "source": [
    "# year.tsv의 year 정보와 title에서 추출한 year 정보가 일치하는지 확인하기 위해 형변환\n",
    "new_titles._year = new_titles._year.apply(pd.to_numeric)\n",
    "new_titles._year = new_titles._year.astype(float)"
   ]
  },
  {
   "cell_type": "code",
   "execution_count": 22,
   "metadata": {},
   "outputs": [
    {
     "data": {
      "text/plain": [
       "item       int64\n",
       "title     object\n",
       "_year    float64\n",
       "year     float64\n",
       "dtype: object"
      ]
     },
     "execution_count": 22,
     "metadata": {},
     "output_type": "execute_result"
    }
   ],
   "source": [
    "new_titles.dtypes"
   ]
  },
  {
   "cell_type": "code",
   "execution_count": 23,
   "metadata": {},
   "outputs": [
    {
     "data": {
      "text/html": [
       "<div>\n",
       "<style scoped>\n",
       "    .dataframe tbody tr th:only-of-type {\n",
       "        vertical-align: middle;\n",
       "    }\n",
       "\n",
       "    .dataframe tbody tr th {\n",
       "        vertical-align: top;\n",
       "    }\n",
       "\n",
       "    .dataframe thead th {\n",
       "        text-align: right;\n",
       "    }\n",
       "</style>\n",
       "<table border=\"1\" class=\"dataframe\">\n",
       "  <thead>\n",
       "    <tr style=\"text-align: right;\">\n",
       "      <th></th>\n",
       "      <th>item</th>\n",
       "      <th>title</th>\n",
       "      <th>_year</th>\n",
       "      <th>year</th>\n",
       "    </tr>\n",
       "  </thead>\n",
       "  <tbody>\n",
       "    <tr>\n",
       "      <th>0</th>\n",
       "      <td>318</td>\n",
       "      <td>shawshank redemption, the (1994)</td>\n",
       "      <td>1994.0</td>\n",
       "      <td>1994.0</td>\n",
       "    </tr>\n",
       "    <tr>\n",
       "      <th>1</th>\n",
       "      <td>2571</td>\n",
       "      <td>matrix, the (1999)</td>\n",
       "      <td>1999.0</td>\n",
       "      <td>1999.0</td>\n",
       "    </tr>\n",
       "    <tr>\n",
       "      <th>2</th>\n",
       "      <td>2959</td>\n",
       "      <td>fight club (1999)</td>\n",
       "      <td>1999.0</td>\n",
       "      <td>1999.0</td>\n",
       "    </tr>\n",
       "    <tr>\n",
       "      <th>3</th>\n",
       "      <td>296</td>\n",
       "      <td>pulp fiction (1994)</td>\n",
       "      <td>1994.0</td>\n",
       "      <td>1994.0</td>\n",
       "    </tr>\n",
       "    <tr>\n",
       "      <th>4</th>\n",
       "      <td>356</td>\n",
       "      <td>forrest gump (1994)</td>\n",
       "      <td>1994.0</td>\n",
       "      <td>1994.0</td>\n",
       "    </tr>\n",
       "    <tr>\n",
       "      <th>...</th>\n",
       "      <td>...</td>\n",
       "      <td>...</td>\n",
       "      <td>...</td>\n",
       "      <td>...</td>\n",
       "    </tr>\n",
       "    <tr>\n",
       "      <th>6802</th>\n",
       "      <td>73106</td>\n",
       "      <td>american pie presents: the book of love (ameri...</td>\n",
       "      <td>2009.0</td>\n",
       "      <td>2009.0</td>\n",
       "    </tr>\n",
       "    <tr>\n",
       "      <th>6803</th>\n",
       "      <td>109850</td>\n",
       "      <td>need for speed (2014)</td>\n",
       "      <td>2014.0</td>\n",
       "      <td>2014.0</td>\n",
       "    </tr>\n",
       "    <tr>\n",
       "      <th>6804</th>\n",
       "      <td>8605</td>\n",
       "      <td>taxi 3 (2003)</td>\n",
       "      <td>2003.0</td>\n",
       "      <td>2003.0</td>\n",
       "    </tr>\n",
       "    <tr>\n",
       "      <th>6805</th>\n",
       "      <td>3689</td>\n",
       "      <td>porky's ii: the next day (1983)</td>\n",
       "      <td>1983.0</td>\n",
       "      <td>1983.0</td>\n",
       "    </tr>\n",
       "    <tr>\n",
       "      <th>6806</th>\n",
       "      <td>8130</td>\n",
       "      <td>girl next door, the (1999)</td>\n",
       "      <td>1999.0</td>\n",
       "      <td>1999.0</td>\n",
       "    </tr>\n",
       "  </tbody>\n",
       "</table>\n",
       "<p>6807 rows × 4 columns</p>\n",
       "</div>"
      ],
      "text/plain": [
       "        item                                              title   _year  \\\n",
       "0        318                   shawshank redemption, the (1994)  1994.0   \n",
       "1       2571                                 matrix, the (1999)  1999.0   \n",
       "2       2959                                  fight club (1999)  1999.0   \n",
       "3        296                                pulp fiction (1994)  1994.0   \n",
       "4        356                                forrest gump (1994)  1994.0   \n",
       "...      ...                                                ...     ...   \n",
       "6802   73106  american pie presents: the book of love (ameri...  2009.0   \n",
       "6803  109850                              need for speed (2014)  2014.0   \n",
       "6804    8605                                      taxi 3 (2003)  2003.0   \n",
       "6805    3689                    porky's ii: the next day (1983)  1983.0   \n",
       "6806    8130                         girl next door, the (1999)  1999.0   \n",
       "\n",
       "        year  \n",
       "0     1994.0  \n",
       "1     1999.0  \n",
       "2     1999.0  \n",
       "3     1994.0  \n",
       "4     1994.0  \n",
       "...      ...  \n",
       "6802  2009.0  \n",
       "6803  2014.0  \n",
       "6804  2003.0  \n",
       "6805  1983.0  \n",
       "6806  1999.0  \n",
       "\n",
       "[6807 rows x 4 columns]"
      ]
     },
     "execution_count": 23,
     "metadata": {},
     "output_type": "execute_result"
    }
   ],
   "source": [
    "new_titles"
   ]
  },
  {
   "cell_type": "code",
   "execution_count": 24,
   "metadata": {},
   "outputs": [
    {
     "data": {
      "text/html": [
       "<div>\n",
       "<style scoped>\n",
       "    .dataframe tbody tr th:only-of-type {\n",
       "        vertical-align: middle;\n",
       "    }\n",
       "\n",
       "    .dataframe tbody tr th {\n",
       "        vertical-align: top;\n",
       "    }\n",
       "\n",
       "    .dataframe thead th {\n",
       "        text-align: right;\n",
       "    }\n",
       "</style>\n",
       "<table border=\"1\" class=\"dataframe\">\n",
       "  <thead>\n",
       "    <tr style=\"text-align: right;\">\n",
       "      <th></th>\n",
       "      <th>item</th>\n",
       "      <th>title</th>\n",
       "      <th>_year</th>\n",
       "      <th>year</th>\n",
       "    </tr>\n",
       "  </thead>\n",
       "  <tbody>\n",
       "    <tr>\n",
       "      <th>0</th>\n",
       "      <td>318</td>\n",
       "      <td>shawshank redemption, the (1994)</td>\n",
       "      <td>1994.0</td>\n",
       "      <td>1994.0</td>\n",
       "    </tr>\n",
       "    <tr>\n",
       "      <th>1</th>\n",
       "      <td>2571</td>\n",
       "      <td>matrix, the (1999)</td>\n",
       "      <td>1999.0</td>\n",
       "      <td>1999.0</td>\n",
       "    </tr>\n",
       "    <tr>\n",
       "      <th>2</th>\n",
       "      <td>2959</td>\n",
       "      <td>fight club (1999)</td>\n",
       "      <td>1999.0</td>\n",
       "      <td>1999.0</td>\n",
       "    </tr>\n",
       "    <tr>\n",
       "      <th>3</th>\n",
       "      <td>296</td>\n",
       "      <td>pulp fiction (1994)</td>\n",
       "      <td>1994.0</td>\n",
       "      <td>1994.0</td>\n",
       "    </tr>\n",
       "    <tr>\n",
       "      <th>4</th>\n",
       "      <td>356</td>\n",
       "      <td>forrest gump (1994)</td>\n",
       "      <td>1994.0</td>\n",
       "      <td>1994.0</td>\n",
       "    </tr>\n",
       "    <tr>\n",
       "      <th>...</th>\n",
       "      <td>...</td>\n",
       "      <td>...</td>\n",
       "      <td>...</td>\n",
       "      <td>...</td>\n",
       "    </tr>\n",
       "    <tr>\n",
       "      <th>6802</th>\n",
       "      <td>73106</td>\n",
       "      <td>american pie presents: the book of love (ameri...</td>\n",
       "      <td>2009.0</td>\n",
       "      <td>2009.0</td>\n",
       "    </tr>\n",
       "    <tr>\n",
       "      <th>6803</th>\n",
       "      <td>109850</td>\n",
       "      <td>need for speed (2014)</td>\n",
       "      <td>2014.0</td>\n",
       "      <td>2014.0</td>\n",
       "    </tr>\n",
       "    <tr>\n",
       "      <th>6804</th>\n",
       "      <td>8605</td>\n",
       "      <td>taxi 3 (2003)</td>\n",
       "      <td>2003.0</td>\n",
       "      <td>2003.0</td>\n",
       "    </tr>\n",
       "    <tr>\n",
       "      <th>6805</th>\n",
       "      <td>3689</td>\n",
       "      <td>porky's ii: the next day (1983)</td>\n",
       "      <td>1983.0</td>\n",
       "      <td>1983.0</td>\n",
       "    </tr>\n",
       "    <tr>\n",
       "      <th>6806</th>\n",
       "      <td>8130</td>\n",
       "      <td>girl next door, the (1999)</td>\n",
       "      <td>1999.0</td>\n",
       "      <td>1999.0</td>\n",
       "    </tr>\n",
       "  </tbody>\n",
       "</table>\n",
       "<p>6799 rows × 4 columns</p>\n",
       "</div>"
      ],
      "text/plain": [
       "        item                                              title   _year  \\\n",
       "0        318                   shawshank redemption, the (1994)  1994.0   \n",
       "1       2571                                 matrix, the (1999)  1999.0   \n",
       "2       2959                                  fight club (1999)  1999.0   \n",
       "3        296                                pulp fiction (1994)  1994.0   \n",
       "4        356                                forrest gump (1994)  1994.0   \n",
       "...      ...                                                ...     ...   \n",
       "6802   73106  american pie presents: the book of love (ameri...  2009.0   \n",
       "6803  109850                              need for speed (2014)  2014.0   \n",
       "6804    8605                                      taxi 3 (2003)  2003.0   \n",
       "6805    3689                    porky's ii: the next day (1983)  1983.0   \n",
       "6806    8130                         girl next door, the (1999)  1999.0   \n",
       "\n",
       "        year  \n",
       "0     1994.0  \n",
       "1     1999.0  \n",
       "2     1999.0  \n",
       "3     1994.0  \n",
       "4     1994.0  \n",
       "...      ...  \n",
       "6802  2009.0  \n",
       "6803  2014.0  \n",
       "6804  2003.0  \n",
       "6805  1983.0  \n",
       "6806  1999.0  \n",
       "\n",
       "[6799 rows x 4 columns]"
      ]
     },
     "execution_count": 24,
     "metadata": {},
     "output_type": "execute_result"
    }
   ],
   "source": [
    "new_titles[new_titles._year == new_titles.year]"
   ]
  },
  {
   "cell_type": "code",
   "execution_count": 25,
   "metadata": {},
   "outputs": [
    {
     "data": {
      "text/html": [
       "<div>\n",
       "<style scoped>\n",
       "    .dataframe tbody tr th:only-of-type {\n",
       "        vertical-align: middle;\n",
       "    }\n",
       "\n",
       "    .dataframe tbody tr th {\n",
       "        vertical-align: top;\n",
       "    }\n",
       "\n",
       "    .dataframe thead th {\n",
       "        text-align: right;\n",
       "    }\n",
       "</style>\n",
       "<table border=\"1\" class=\"dataframe\">\n",
       "  <thead>\n",
       "    <tr style=\"text-align: right;\">\n",
       "      <th></th>\n",
       "      <th>item</th>\n",
       "      <th>title</th>\n",
       "      <th>_year</th>\n",
       "      <th>year</th>\n",
       "    </tr>\n",
       "  </thead>\n",
       "  <tbody>\n",
       "    <tr>\n",
       "      <th>984</th>\n",
       "      <td>6987</td>\n",
       "      <td>cabinet of dr. caligari, the (cabinet des dr. ...</td>\n",
       "      <td>1920.0</td>\n",
       "      <td>NaN</td>\n",
       "    </tr>\n",
       "    <tr>\n",
       "      <th>1284</th>\n",
       "      <td>3310</td>\n",
       "      <td>kid, the (1921)</td>\n",
       "      <td>1921.0</td>\n",
       "      <td>NaN</td>\n",
       "    </tr>\n",
       "    <tr>\n",
       "      <th>2359</th>\n",
       "      <td>7065</td>\n",
       "      <td>birth of a nation, the (1915)</td>\n",
       "      <td>1915.0</td>\n",
       "      <td>NaN</td>\n",
       "    </tr>\n",
       "    <tr>\n",
       "      <th>2620</th>\n",
       "      <td>7243</td>\n",
       "      <td>intolerance: love's struggle throughout the ag...</td>\n",
       "      <td>1916.0</td>\n",
       "      <td>NaN</td>\n",
       "    </tr>\n",
       "    <tr>\n",
       "      <th>2669</th>\n",
       "      <td>8511</td>\n",
       "      <td>immigrant, the (1917)</td>\n",
       "      <td>1917.0</td>\n",
       "      <td>NaN</td>\n",
       "    </tr>\n",
       "    <tr>\n",
       "      <th>2676</th>\n",
       "      <td>6988</td>\n",
       "      <td>broken blossoms or the yellow man and the girl...</td>\n",
       "      <td>1919.0</td>\n",
       "      <td>NaN</td>\n",
       "    </tr>\n",
       "    <tr>\n",
       "      <th>3177</th>\n",
       "      <td>32898</td>\n",
       "      <td>trip to the moon, a (voyage dans la lune, le) ...</td>\n",
       "      <td>1902.0</td>\n",
       "      <td>NaN</td>\n",
       "    </tr>\n",
       "    <tr>\n",
       "      <th>6043</th>\n",
       "      <td>119145</td>\n",
       "      <td>kingsman: the secret service (2015)</td>\n",
       "      <td>2015.0</td>\n",
       "      <td>NaN</td>\n",
       "    </tr>\n",
       "  </tbody>\n",
       "</table>\n",
       "</div>"
      ],
      "text/plain": [
       "        item                                              title   _year  year\n",
       "984     6987  cabinet of dr. caligari, the (cabinet des dr. ...  1920.0   NaN\n",
       "1284    3310                                    kid, the (1921)  1921.0   NaN\n",
       "2359    7065                      birth of a nation, the (1915)  1915.0   NaN\n",
       "2620    7243  intolerance: love's struggle throughout the ag...  1916.0   NaN\n",
       "2669    8511                              immigrant, the (1917)  1917.0   NaN\n",
       "2676    6988  broken blossoms or the yellow man and the girl...  1919.0   NaN\n",
       "3177   32898  trip to the moon, a (voyage dans la lune, le) ...  1902.0   NaN\n",
       "6043  119145                kingsman: the secret service (2015)  2015.0   NaN"
      ]
     },
     "execution_count": 25,
     "metadata": {},
     "output_type": "execute_result"
    }
   ],
   "source": [
    "# year이 다른 경우는 NaN인 경우밖에 없다. -> year 결측값 채울 수 있다.\n",
    "new_titles[new_titles._year != new_titles.year]"
   ]
  },
  {
   "cell_type": "code",
   "execution_count": 26,
   "metadata": {},
   "outputs": [],
   "source": [
    "new_titles.drop(\"year\", axis=1, inplace=True)"
   ]
  },
  {
   "cell_type": "code",
   "execution_count": 27,
   "metadata": {},
   "outputs": [],
   "source": [
    "new_titles.rename(columns={\"_year\": \"year\"}, inplace=True)\n",
    "new_titles.year = new_titles.year.astype(int)"
   ]
  },
  {
   "cell_type": "code",
   "execution_count": 28,
   "metadata": {},
   "outputs": [
    {
     "data": {
      "text/html": [
       "<div>\n",
       "<style scoped>\n",
       "    .dataframe tbody tr th:only-of-type {\n",
       "        vertical-align: middle;\n",
       "    }\n",
       "\n",
       "    .dataframe tbody tr th {\n",
       "        vertical-align: top;\n",
       "    }\n",
       "\n",
       "    .dataframe thead th {\n",
       "        text-align: right;\n",
       "    }\n",
       "</style>\n",
       "<table border=\"1\" class=\"dataframe\">\n",
       "  <thead>\n",
       "    <tr style=\"text-align: right;\">\n",
       "      <th></th>\n",
       "      <th>item</th>\n",
       "      <th>title</th>\n",
       "      <th>year</th>\n",
       "    </tr>\n",
       "  </thead>\n",
       "  <tbody>\n",
       "    <tr>\n",
       "      <th>0</th>\n",
       "      <td>318</td>\n",
       "      <td>shawshank redemption, the (1994)</td>\n",
       "      <td>1994</td>\n",
       "    </tr>\n",
       "    <tr>\n",
       "      <th>1</th>\n",
       "      <td>2571</td>\n",
       "      <td>matrix, the (1999)</td>\n",
       "      <td>1999</td>\n",
       "    </tr>\n",
       "    <tr>\n",
       "      <th>2</th>\n",
       "      <td>2959</td>\n",
       "      <td>fight club (1999)</td>\n",
       "      <td>1999</td>\n",
       "    </tr>\n",
       "    <tr>\n",
       "      <th>3</th>\n",
       "      <td>296</td>\n",
       "      <td>pulp fiction (1994)</td>\n",
       "      <td>1994</td>\n",
       "    </tr>\n",
       "    <tr>\n",
       "      <th>4</th>\n",
       "      <td>356</td>\n",
       "      <td>forrest gump (1994)</td>\n",
       "      <td>1994</td>\n",
       "    </tr>\n",
       "    <tr>\n",
       "      <th>...</th>\n",
       "      <td>...</td>\n",
       "      <td>...</td>\n",
       "      <td>...</td>\n",
       "    </tr>\n",
       "    <tr>\n",
       "      <th>6802</th>\n",
       "      <td>73106</td>\n",
       "      <td>american pie presents: the book of love (ameri...</td>\n",
       "      <td>2009</td>\n",
       "    </tr>\n",
       "    <tr>\n",
       "      <th>6803</th>\n",
       "      <td>109850</td>\n",
       "      <td>need for speed (2014)</td>\n",
       "      <td>2014</td>\n",
       "    </tr>\n",
       "    <tr>\n",
       "      <th>6804</th>\n",
       "      <td>8605</td>\n",
       "      <td>taxi 3 (2003)</td>\n",
       "      <td>2003</td>\n",
       "    </tr>\n",
       "    <tr>\n",
       "      <th>6805</th>\n",
       "      <td>3689</td>\n",
       "      <td>porky's ii: the next day (1983)</td>\n",
       "      <td>1983</td>\n",
       "    </tr>\n",
       "    <tr>\n",
       "      <th>6806</th>\n",
       "      <td>8130</td>\n",
       "      <td>girl next door, the (1999)</td>\n",
       "      <td>1999</td>\n",
       "    </tr>\n",
       "  </tbody>\n",
       "</table>\n",
       "<p>6807 rows × 3 columns</p>\n",
       "</div>"
      ],
      "text/plain": [
       "        item                                              title  year\n",
       "0        318                   shawshank redemption, the (1994)  1994\n",
       "1       2571                                 matrix, the (1999)  1999\n",
       "2       2959                                  fight club (1999)  1999\n",
       "3        296                                pulp fiction (1994)  1994\n",
       "4        356                                forrest gump (1994)  1994\n",
       "...      ...                                                ...   ...\n",
       "6802   73106  american pie presents: the book of love (ameri...  2009\n",
       "6803  109850                              need for speed (2014)  2014\n",
       "6804    8605                                      taxi 3 (2003)  2003\n",
       "6805    3689                    porky's ii: the next day (1983)  1983\n",
       "6806    8130                         girl next door, the (1999)  1999\n",
       "\n",
       "[6807 rows x 3 columns]"
      ]
     },
     "execution_count": 28,
     "metadata": {},
     "output_type": "execute_result"
    }
   ],
   "source": [
    "new_titles"
   ]
  },
  {
   "attachments": {},
   "cell_type": "markdown",
   "metadata": {},
   "source": [
    "# title 유사도\n",
    "title의 유사도 비교를 위해 TF-IDF를 사용하였다."
   ]
  },
  {
   "cell_type": "code",
   "execution_count": 29,
   "metadata": {},
   "outputs": [],
   "source": [
    "# !pip install scikit-learn"
   ]
  },
  {
   "cell_type": "code",
   "execution_count": 30,
   "metadata": {},
   "outputs": [],
   "source": [
    "from sklearn.feature_extraction.text import TfidfVectorizer\n",
    "from sklearn.metrics.pairwise import cosine_similarity\n",
    "import numpy as np"
   ]
  },
  {
   "cell_type": "code",
   "execution_count": 31,
   "metadata": {},
   "outputs": [],
   "source": [
    "tfidf = TfidfVectorizer()\n",
    "tfidf_matrix = tfidf.fit_transform(new_titles.title)"
   ]
  },
  {
   "cell_type": "code",
   "execution_count": 32,
   "metadata": {},
   "outputs": [],
   "source": [
    "cosine_sim = cosine_similarity(tfidf_matrix, tfidf_matrix)"
   ]
  },
  {
   "cell_type": "code",
   "execution_count": 33,
   "metadata": {},
   "outputs": [],
   "source": [
    "for idx in range(len(new_titles)):\n",
    "    for i in range(len(new_titles)):\n",
    "        if new_titles.iloc[i].title != new_titles.iloc[idx].title\\\n",
    "            and 0.9 < cosine_sim[idx][i] < 1.0:\n",
    "            print(\"==== SIMILAR! ====\")\n",
    "            print(new_titles.iloc[idx].title, new_titles.iloc[idx].year)\n",
    "            print(new_titles.iloc[i].title, new_titles.iloc[i].year) \n",
    "            print(cosine_sim[idx][i])\n",
    "            print(\"===================\")"
   ]
  },
  {
   "cell_type": "code",
   "execution_count": 34,
   "metadata": {},
   "outputs": [],
   "source": [
    "new_titles.title = new_titles.title.astype(\"string\")"
   ]
  },
  {
   "cell_type": "code",
   "execution_count": 35,
   "metadata": {},
   "outputs": [
    {
     "data": {
      "text/plain": [
       "item      int64\n",
       "title    string\n",
       "year      int64\n",
       "dtype: object"
      ]
     },
     "execution_count": 35,
     "metadata": {},
     "output_type": "execute_result"
    }
   ],
   "source": [
    "new_titles.dtypes"
   ]
  },
  {
   "attachments": {},
   "cell_type": "markdown",
   "metadata": {},
   "source": [
    "순서만 바뀐 제목 확인을 위해 countvectorizer을 사용하였다."
   ]
  },
  {
   "cell_type": "code",
   "execution_count": 36,
   "metadata": {},
   "outputs": [],
   "source": [
    "from sklearn.feature_extraction.text import CountVectorizer"
   ]
  },
  {
   "cell_type": "code",
   "execution_count": 37,
   "metadata": {},
   "outputs": [],
   "source": [
    "word_list = []\n",
    "\n",
    "vect = CountVectorizer()\n",
    "\n",
    "for i in range(len(new_titles)):\n",
    "    vect.fit_transform([new_titles.iloc[i].title])\n",
    "    word_list.append(vect.vocabulary_)"
   ]
  },
  {
   "cell_type": "code",
   "execution_count": 38,
   "metadata": {},
   "outputs": [
    {
     "name": "stdout",
     "output_type": "stream",
     "text": [
      "{'war': 3, 'of': 1, 'the': 2, 'worlds': 4, '2005': 0} {'war': 3, 'of': 1, 'the': 2, 'worlds': 4, '2005': 0}\n",
      "{'2004': 0} {'2004': 0}\n",
      "{'2001': 0} {'2001': 0}\n"
     ]
    }
   ],
   "source": [
    "# 앞서 두 개의 title이 중복된 경우를 제외하고는 순서만 바뀐 경우는 없었다.\n",
    "for i in range(len(word_list) - 1):\n",
    "    for j in range(i+1, len(word_list)):\n",
    "        if word_list[i] == word_list[j]:\n",
    "            print(word_list[i], word_list[j])"
   ]
  },
  {
   "attachments": {},
   "cell_type": "markdown",
   "metadata": {},
   "source": [
    "sentence transformers"
   ]
  },
  {
   "cell_type": "code",
   "execution_count": 40,
   "metadata": {},
   "outputs": [],
   "source": [
    "# !pip install sentence_transformers"
   ]
  },
  {
   "cell_type": "code",
   "execution_count": 41,
   "metadata": {},
   "outputs": [],
   "source": [
    "from sentence_transformers import SentenceTransformer, util"
   ]
  },
  {
   "cell_type": "code",
   "execution_count": 42,
   "metadata": {},
   "outputs": [],
   "source": [
    "movie_titles = titles.title.values\n",
    "model = SentenceTransformer('paraphrase-distilroberta-base-v1')\n",
    "embeddings = model.encode(movie_titles, convert_to_tensor=True)"
   ]
  },
  {
   "attachments": {},
   "cell_type": "markdown",
   "metadata": {},
   "source": [
    "- paraphrase-multilingual-MiniLM-L12-v2 -> paraphrase-distilroberta-base-v1보다 전체적으로 유사도를 높게 측정하는 것으로 보임."
   ]
  },
  {
   "cell_type": "code",
   "execution_count": 43,
   "metadata": {},
   "outputs": [],
   "source": [
    "movie_titles = titles.title.values\n",
    "model = SentenceTransformer('paraphrase-multilingual-MiniLM-L12-v2')\n",
    "embeddings = model.encode(movie_titles, convert_to_tensor=True)"
   ]
  },
  {
   "cell_type": "code",
   "execution_count": 44,
   "metadata": {},
   "outputs": [],
   "source": [
    "cosine_scores = util.pytorch_cos_sim(embeddings, embeddings)"
   ]
  },
  {
   "cell_type": "code",
   "execution_count": null,
   "metadata": {},
   "outputs": [],
   "source": [
    "for idx in range(len(cosine_scores)): ###110\n",
    "    for cosval, name in zip(cosine_scores[idx],movie_titles):\n",
    "        if movie_titles[idx] != name and 0.80 < cosval < 1.0:\n",
    "            print(f\"{cosval*100}%\\t\\t{movie_titles[idx]}----{name}\")"
   ]
  },
  {
   "attachments": {},
   "cell_type": "markdown",
   "metadata": {},
   "source": [
    "- paraphrase-MiniLM-L6-v2"
   ]
  },
  {
   "cell_type": "code",
   "execution_count": null,
   "metadata": {},
   "outputs": [],
   "source": [
    "movie_titles = titles.title.values\n",
    "model = SentenceTransformer('paraphrase-MiniLM-L6-v2')\n",
    "embeddings = model.encode(movie_titles, convert_to_tensor=True)"
   ]
  },
  {
   "cell_type": "code",
   "execution_count": null,
   "metadata": {},
   "outputs": [],
   "source": [
    "cosine_scores = util.pytorch_cos_sim(embeddings, embeddings)\n",
    "for idx in range(len(cosine_scores)): ###110\n",
    "    for cosval, name in zip(cosine_scores[idx],movie_titles):\n",
    "        if movie_titles[idx] != name and 0.80 < cosval < 1.0:\n",
    "            print(f\"{cosval*100}%\\t\\t{movie_titles[idx]}----{name}\")"
   ]
  },
  {
   "attachments": {},
   "cell_type": "markdown",
   "metadata": {},
   "source": [
    "- paraphrase-distilroberta-base-v1"
   ]
  },
  {
   "cell_type": "code",
   "execution_count": null,
   "metadata": {},
   "outputs": [],
   "source": [
    "movie_titles = titles.title.values\n",
    "model = SentenceTransformer('paraphrase-distilroberta-base-v1')\n",
    "embeddings = model.encode(movie_titles, convert_to_tensor=True)"
   ]
  },
  {
   "cell_type": "code",
   "execution_count": null,
   "metadata": {},
   "outputs": [
    {
     "data": {
      "text/plain": [
       "tensor([[ 1.0000,  0.2723,  0.2219,  ...,  0.1206,  0.2550,  0.1470],\n",
       "        [ 0.2723,  1.0000,  0.4619,  ...,  0.1824,  0.2633,  0.4373],\n",
       "        [ 0.2219,  0.4619,  1.0000,  ...,  0.0987,  0.2437,  0.3924],\n",
       "        ...,\n",
       "        [ 0.1206,  0.1824,  0.0987,  ...,  1.0000,  0.2284, -0.0154],\n",
       "        [ 0.2550,  0.2633,  0.2437,  ...,  0.2284,  1.0000,  0.2208],\n",
       "        [ 0.1470,  0.4373,  0.3924,  ..., -0.0154,  0.2208,  1.0000]],\n",
       "       device='cuda:0')"
      ]
     },
     "execution_count": 86,
     "metadata": {},
     "output_type": "execute_result"
    }
   ],
   "source": [
    "cosine_scores = util.pytorch_cos_sim(embeddings, embeddings)\n",
    "cosine_scores"
   ]
  },
  {
   "cell_type": "code",
   "execution_count": null,
   "metadata": {},
   "outputs": [],
   "source": [
    "for idx in range(len(cosine_scores)): ###110\n",
    "    for cosval, name in zip(cosine_scores[idx],movie_titles):\n",
    "        if 0.80 < cosval < 1.0:\n",
    "            print(f\"{cosval*100}%\\t\\t{movie_titles[idx]}----{name}\")"
   ]
  }
 ],
 "metadata": {
  "kernelspec": {
   "display_name": "base",
   "language": "python",
   "name": "python3"
  },
  "language_info": {
   "codemirror_mode": {
    "name": "ipython",
    "version": 3
   },
   "file_extension": ".py",
   "mimetype": "text/x-python",
   "name": "python",
   "nbconvert_exporter": "python",
   "pygments_lexer": "ipython3",
   "version": "3.8.5"
  },
  "orig_nbformat": 4,
  "vscode": {
   "interpreter": {
    "hash": "d4d1e4263499bec80672ea0156c357c1ee493ec2b1c70f0acce89fc37c4a6abe"
   }
  }
 },
 "nbformat": 4,
 "nbformat_minor": 2
}
